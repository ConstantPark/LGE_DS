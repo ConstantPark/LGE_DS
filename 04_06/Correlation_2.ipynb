{
 "cells": [
  {
   "cell_type": "markdown",
   "metadata": {},
   "source": [
    "**단계 1:** 상관관계를 계산하는데 필요한 패키지를 import 합니다."
   ]
  },
  {
   "cell_type": "code",
   "execution_count": 1,
   "metadata": {},
   "outputs": [
    {
     "name": "stdout",
     "output_type": "stream",
     "text": [
      "0.8574947122278256\n"
     ]
    }
   ],
   "source": [
    "# 행과 열로 구성된 데이터를 사용하기 위해 필요한 패키지를 import합니다.\n",
    "# 본 예제에서는 pandas, matplotlib를 사용합니다.\n",
    "# 다른 패키지는 주가 데이터를 다운 받기 위해 필요합니다.\n",
    "import pandas as pd\n",
    "import pandas_datareader.data as web\n",
    "import datetime\n",
    "import matplotlib.pyplot as plt\n",
    "from pandas.plotting import scatter_matrix\n"
   ]
  },
  {
   "cell_type": "markdown",
   "metadata": {},
   "source": [
    "**단계 2:** 주가 데이터를 다운받는 함수를 작성합니다."
   ]
  },
  {
   "cell_type": "code",
   "execution_count": null,
   "metadata": {},
   "outputs": [],
   "source": [
    "# 주가 데이터를 다운받는 함수를 선언합니다.\n",
    "# file_name: 다운로드한 주가 데이터를 저장할 파일 이름\n",
    "# company_code: 종목 코드\n",
    "# year1/month1/date1: 데이터를 다운로드할 시작일\n",
    "# year2/month2/date2: 데이터를 다운로드할 마감일\n",
    "# 주가 데이터를 불러와 pandas에서 사용 할수 있도록 합니다.\n",
    "def download_stock_data(file_name, company_code, year1, month1, date1, year2, month2, date2):\n",
    "    start = datetime.datetime(year1, month1, date1)\n",
    "    end = datetime.datetime(year2, month2, date2)\n",
    "    df = web.DataReader(\"%s.KS\" % (company_code), \"yahoo\", start, end)\n",
    "    df.to_pickle(file_name)\n",
    "    return df\n"
   ]
  },
  {
   "cell_type": "markdown",
   "metadata": {},
   "source": [
    "**단계 3:** 주가 데이터를 pickle API로 로드하는 함수를 작성합니다."
   ]
  },
  {
   "cell_type": "code",
   "execution_count": null,
   "metadata": {},
   "outputs": [],
   "source": [
    "# 다운받은 주가데이터를 불러오는 함수를 선언합니다.\n",
    "# 피클은 파이썬의 모든 객체를 파일로 핸들링하는 방법입니다\n",
    "# 다운받은 데이터는 피클 포맷으로 되었으므로 피클 API를 사용하여 로드합니다. \n",
    "\n",
    "def load_stock_data(file_name):\n",
    "    df = pd.read_pickle(file_name)\n",
    "    return df\n"
   ]
  },
  {
   "cell_type": "markdown",
   "metadata": {},
   "source": [
    "**단계 4:** 주가 데이터를 분석하여, 상관분석의 결과를 확인합니다."
   ]
  },
  {
   "cell_type": "code",
   "execution_count": null,
   "metadata": {},
   "outputs": [],
   "source": [
    "# 모비스와 만도의 주가 데이터를 다운받아, 상관분석을 진행합니다.\n",
    "# 이때 상관분석은 종가 (Close)를 기준으로 합니다.\n",
    "download_stock_data('mobis.data', '012330', 2018, 1, 1, 2018, 12, 31)\n",
    "df_mobis = load_stock_data('mobis.data')\n",
    "download_stock_data('mando.data', '204320', 2018, 1, 1, 2018, 12, 31)\n",
    "df_mando = load_stock_data('mando.data')\n",
    "print( df_mobis['Close'].corr(df_mando['Close']))\n",
    "\n",
    "# 출력 결과는 다음과 동일합니다: 0.8574947122278256"
   ]
  },
  {
   "cell_type": "markdown",
   "metadata": {},
   "source": [
    "종가가 아닌 다른 주가 데이터로 상관분석을 한다면 어떤 값이 출력이 될까요 ?"
   ]
  }
 ],
 "metadata": {
  "kernelspec": {
   "display_name": "Python 3",
   "language": "python",
   "name": "python3"
  },
  "language_info": {
   "codemirror_mode": {
    "name": "ipython",
    "version": 3
   },
   "file_extension": ".py",
   "mimetype": "text/x-python",
   "name": "python",
   "nbconvert_exporter": "python",
   "pygments_lexer": "ipython3",
   "version": "3.7.3"
  }
 },
 "nbformat": 4,
 "nbformat_minor": 2
}

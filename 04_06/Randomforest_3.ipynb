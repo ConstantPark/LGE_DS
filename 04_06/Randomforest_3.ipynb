{
 "cells": [
  {
   "cell_type": "markdown",
   "metadata": {},
   "source": [
    "## Random forest 예시 #3\n",
    "===============================================================================\n",
    "# 붓꽃 예측"
   ]
  },
  {
   "cell_type": "code",
   "execution_count": 26,
   "metadata": {},
   "outputs": [
    {
     "name": "stdout",
     "output_type": "stream",
     "text": [
      "아이리스 종류 : ['setosa' 'versicolor' 'virginica']\n",
      "target : [0:setosa, 1:versicolor, 2:virginica]\n",
      "데어터 수 : 150\n",
      "데이터 열 이름 : ['sepal length (cm)', 'sepal width (cm)', 'petal length (cm)', 'petal width (cm)']\n",
      "   sepal length  sepal width  petal length  petal width  species\n",
      "0           5.1          3.5           1.4          0.2        0\n",
      "1           4.9          3.0           1.4          0.2        0\n",
      "2           4.7          3.2           1.3          0.2        0\n",
      "3           4.6          3.1           1.5          0.2        0\n",
      "4           5.0          3.6           1.4          0.2        0\n"
     ]
    }
   ],
   "source": [
    "import pandas as pd\n",
    "from sklearn import datasets\n",
    " \n",
    "if __name__ == '__main__':\n",
    "    iris = datasets.load_iris()\n",
    "    print('아이리스 종류 :', iris.target_names)\n",
    "    print('target : [0:setosa, 1:versicolor, 2:virginica]')\n",
    "    print('데어터 수 :', len(iris.data))\n",
    "    print('데이터 열 이름 :', iris.feature_names)\n",
    " \n",
    "    # iris data Dataframe으로\n",
    "    data = pd.DataFrame(\n",
    "        {\n",
    "            'sepal length': iris.data[:, 0],\n",
    "            'sepal width': iris.data[:, 1],\n",
    "            'petal length': iris.data[:, 2],\n",
    "            'petal width': iris.data[:, 3],\n",
    "            'species': iris.target\n",
    "        }\n",
    "    )\n",
    "print(data.head())"
   ]
  },
  {
   "cell_type": "code",
   "execution_count": 31,
   "metadata": {},
   "outputs": [],
   "source": [
    "X=data[['sepal length', 'sepal width', 'petal length', 'petal width']]  # Features\n",
    "y=data['species']  # Labels\n",
    "\n",
    "# Split dataset into training set and test set\n",
    "x_train, x_test, y_train, y_test = train_test_split(X, y, test_size=0.3) # 70% training and 30% test"
   ]
  },
  {
   "cell_type": "code",
   "execution_count": 32,
   "metadata": {},
   "outputs": [
    {
     "name": "stdout",
     "output_type": "stream",
     "text": [
      "[1 2 1 2 2 0 0 0 1 2 2 0 2 1 0 0 2 1 0 0 0 1 0 2 2 2 1 2 2 2 1 0 1 1 0 0 1\n",
      " 0 1 1 2 1 0 1 2]\n",
      "[1, 2, 1, 2, 2, 0, 0, 0, 1, 2, 2, 0, 2, 1, 0, 0, 2, 1, 0, 0, 0, 1, 0, 2, 2, 1, 1, 2, 2, 2, 1, 0, 1, 1, 0, 0, 1, 0, 1, 1, 2, 1, 0, 1, 2]\n",
      "정확도 : 0.9777777777777777\n"
     ]
    }
   ],
   "source": [
    "# 데이터셋 분리 (학습/검증)\n",
    "\n",
    "from sklearn.ensemble import RandomForestClassifier\n",
    "from sklearn import metrics    \n",
    " \n",
    "# 학습 진행\n",
    "# RandomForestClassifier를 사용하여 RandomForest 분류 모델을 생성\n",
    "# 이후 fit 함수를 사용하여 성능평가\n",
    "forest =           (n_estimators=10)\n",
    "forest.   (x_train, y_train)\n",
    " \n",
    "# 예측\n",
    "y_pred = forest.predict(x_test)\n",
    "print(y_pred)\n",
    "print(list(y_test))\n",
    " \n",
    "# 정확도 확인\n",
    "print('정확도 :', metrics.accuracy_score(y_test, y_pred))\n"
   ]
  }
 ],
 "metadata": {
  "kernelspec": {
   "display_name": "Python 3",
   "language": "python",
   "name": "python3"
  },
  "language_info": {
   "codemirror_mode": {
    "name": "ipython",
    "version": 3
   },
   "file_extension": ".py",
   "mimetype": "text/x-python",
   "name": "python",
   "nbconvert_exporter": "python",
   "pygments_lexer": "ipython3",
   "version": "3.8.3"
  }
 },
 "nbformat": 4,
 "nbformat_minor": 4
}

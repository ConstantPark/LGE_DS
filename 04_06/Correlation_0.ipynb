{
 "cells": [
  {
   "cell_type": "markdown",
   "metadata": {},
   "source": [
    "**단계 1:** 파이썬 패키지 import"
   ]
  },
  {
   "cell_type": "code",
   "execution_count": 1,
   "metadata": {},
   "outputs": [],
   "source": [
    "# 행과 열로 구성된 데이터를 사용하기 위해 필요한 패키지를 import합니다.\n",
    "# 본 예제에서는 pandas를 사용합니다.\n",
    "import pandas as pd"
   ]
  },
  {
   "cell_type": "markdown",
   "metadata": {},
   "source": [
    "**단계 2:** 상관관계의 분석에 사용할 데이터 초기화"
   ]
  },
  {
   "cell_type": "code",
   "execution_count": 2,
   "metadata": {},
   "outputs": [],
   "source": [
    "# 리스트들의 값을 파이썬 리스트로 선언합니다.\n",
    "# 각 데이터는 a, b, c, d 순으로 값을 정의합니다.\n",
    "lst = [[1,2,3,4,5,6,7],\n",
    "       [10,15,20,25,50,55,60],\n",
    "       [0,0,0,0,0,0,0],\n",
    "       [-1,-20,-30,-45,-50,-55,-70]]"
   ]
  },
  {
   "cell_type": "markdown",
   "metadata": {},
   "source": [
    "**단계 3:** 데이터를 padnas 객체로 선언합니다."
   ]
  },
  {
   "cell_type": "code",
   "execution_count": 3,
   "metadata": {},
   "outputs": [],
   "source": [
    "# pandas의 DataFrame 객체를 생성합니다.\n",
    "# DataFrame객체는 행과 열의 성분으로 구성됩니다.\n",
    "# 데이터의 가로와 세로를 전치 (Transpose)합니다.\n",
    "# 전치한 데이터는 index | a | b | c | d 순으로 출력되도록 합니다.\n",
    "df = pd.DataFrame(lst).T\n"
   ]
  },
  {
   "cell_type": "markdown",
   "metadata": {},
   "source": [
    "**단계 4:** 피어슨 계수를 사용한 상관분석"
   ]
  },
  {
   "cell_type": "code",
   "execution_count": 4,
   "metadata": {},
   "outputs": [
    {
     "name": "stdout",
     "output_type": "stream",
     "text": [
      "          0         1   2         3\n",
      "0  1.000000  0.966282 NaN -0.983120\n",
      "1  0.966282  1.000000 NaN -0.917002\n",
      "2       NaN       NaN NaN       NaN\n",
      "3 -0.983120 -0.917002 NaN  1.000000\n"
     ]
    }
   ],
   "source": [
    "# 피어슨 계수를 계산하고, 결과를 출력합니다.\n",
    "# method에 어떠한 방식으로 상관 분석을 할 것인지 명시합니다.\n",
    "# 여기서는 피어슨 계수를 사용하도록 합니다.\n",
    "corr = df.corr(method = 'pearson')\n",
    "print(corr)\n"
   ]
  },
  {
   "cell_type": "markdown",
   "metadata": {},
   "source": [
    "출력된 결과를 확인합니다. Nan은 Not a number의 약자로 숫자가 아님을 의미합니다. 왜 이러한 결과가 나왔을까요 ? "
   ]
  }
 ],
 "metadata": {
  "kernelspec": {
   "display_name": "Python 3",
   "language": "python",
   "name": "python3"
  },
  "language_info": {
   "codemirror_mode": {
    "name": "ipython",
    "version": 3
   },
   "file_extension": ".py",
   "mimetype": "text/x-python",
   "name": "python",
   "nbconvert_exporter": "python",
   "pygments_lexer": "ipython3",
   "version": "3.7.3"
  }
 },
 "nbformat": 4,
 "nbformat_minor": 2
}

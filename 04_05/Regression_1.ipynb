{
 "cells": [
  {
   "cell_type": "markdown",
   "metadata": {},
   "source": [
    "회귀 예시 #1\n",
    "======================\n",
    "# 회귀를 사용한 배달시간 분석 및 시각화\n",
    "선형 회귀는 Python의 Matplotlib 라이브러리를 사용하여 시각화를 하여 분석이 가능합니다. 본 예제는 이러한 것에 대한 실습을 진행합니다. \n",
    " Numpy Array를 만들어 데이터를 초기화하며, 배달거리와 배달에 소요되는 시간을 Numpy Array로 생성합니다."
   ]
  },
  {
   "cell_type": "code",
   "execution_count": 7,
   "metadata": {},
   "outputs": [
    {
     "ename": "NameError",
     "evalue": "name 'array' is not defined",
     "output_type": "error",
     "traceback": [
      "\u001b[1;31m---------------------------------------------------------------------------\u001b[0m",
      "\u001b[1;31mNameError\u001b[0m                                 Traceback (most recent call last)",
      "\u001b[1;32m<ipython-input-7-83d224438d3a>\u001b[0m in \u001b[0;36m<module>\u001b[1;34m\u001b[0m\n\u001b[0;32m     10\u001b[0m \u001b[0my\u001b[0m \u001b[1;33m=\u001b[0m \u001b[0my\u001b[0m\u001b[1;33m.\u001b[0m\u001b[0mreshape\u001b[0m\u001b[1;33m(\u001b[0m\u001b[0mlen\u001b[0m\u001b[1;33m(\u001b[0m\u001b[0my\u001b[0m\u001b[1;33m)\u001b[0m\u001b[1;33m,\u001b[0m \u001b[1;36m1\u001b[0m\u001b[1;33m)\u001b[0m\u001b[1;33m\u001b[0m\u001b[1;33m\u001b[0m\u001b[0m\n\u001b[0;32m     11\u001b[0m \u001b[1;33m\u001b[0m\u001b[0m\n\u001b[1;32m---> 12\u001b[1;33m \u001b[0marray\u001b[0m\u001b[1;33m(\u001b[0m\u001b[1;36m86.44794301\u001b[0m\u001b[1;33m)\u001b[0m\u001b[1;33m\u001b[0m\u001b[1;33m\u001b[0m\u001b[0m\n\u001b[0m\u001b[0;32m     13\u001b[0m \u001b[1;33m\u001b[0m\u001b[0m\n\u001b[0;32m     14\u001b[0m \u001b[1;31m# OLS 해를 직접 이용하는 방법 (y=86.96171201x+99.79150869)\u001b[0m\u001b[1;33m\u001b[0m\u001b[1;33m\u001b[0m\u001b[1;33m\u001b[0m\u001b[0m\n",
      "\u001b[1;31mNameError\u001b[0m: name 'array' is not defined"
     ]
    }
   ],
   "source": [
    "#\n",
    "import numpy as np \n",
    "from matplotlib import pyplot as plt \n",
    "\n",
    "# 배달거리와 소요시간\n",
    "# 음식을 주문했을대 도착하기까지 소요되는 시간과 이때의 거리를 입력합니다.\n",
    "data = np.     ([[100, 20], \n",
    "    [150, 24], \n",
    "    [300, 36], \n",
    "    [400, 47], \n",
    "    [130, 22], \n",
    "    [240, 32],\n",
    "    [350, 47], \n",
    "    [200, 42], \n",
    "    [100, 21], \n",
    "    [110, 21], \n",
    "    [190, 30], \n",
    "    [120, 25], \n",
    "    [130, 18], \n",
    "    [270, 38], \n",
    "    [255, 28]])\n"
   ]
  },
  {
   "cell_type": "code",
   "execution_count": 4,
   "metadata": {},
   "outputs": [
    {
     "data": {
      "image/png": "[encoded data removed]",
      "text/plain": [
       "<Figure size 432x288 with 1 Axes>"
      ]
     },
     "metadata": {
      "needs_background": "light"
     },
     "output_type": "display_data"
    }
   ],
   "source": [
    "# 데이터 시각화\n",
    "# 데이터 시각화를 통해 선형회귀 곡선과 이때 데이터의 분포를 확인합니다.\n",
    "plt.scatter(data[:, 0], data[:, 1]) \n",
    "plt.title(\"Time / Distance\")\t   # 그래프 제목\n",
    "plt.xlabel(\"Delivery Distance (meter)\") # x축 이름\n",
    "plt.ylabel(\"Time Consumed (minute)\")    # y축 이름\n",
    "plt.axis([0, 420, 0, 50])\t            # 선형회귀 그래프\t\n",
    "plt.show() \n",
    "\n"
   ]
  },
  {
   "cell_type": "code",
   "execution_count": null,
   "metadata": {},
   "outputs": [],
   "source": []
  }
 ],
 "metadata": {
  "kernelspec": {
   "display_name": "Python 3",
   "language": "python",
   "name": "python3"
  },
  "language_info": {
   "codemirror_mode": {
    "name": "ipython",
    "version": 3
   },
   "file_extension": ".py",
   "mimetype": "text/x-python",
   "name": "python",
   "nbconvert_exporter": "python",
   "pygments_lexer": "ipython3",
   "version": "3.8.3"
  }
 },
 "nbformat": 4,
 "nbformat_minor": 4
}

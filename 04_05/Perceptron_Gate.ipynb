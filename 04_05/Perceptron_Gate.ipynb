{
 "cells": [
  {
   "cell_type": "code",
   "execution_count": 11,
   "metadata": {},
   "outputs": [],
   "source": [
    "# 게이트를 모델링 하는데 Numpy를 사용합니다.\n",
    "import numpy as np\n",
    "#from __future__ import print_function\n"
   ]
  },
  {
   "cell_type": "markdown",
   "metadata": {},
   "source": [
    "**AND 게이트 정의**  \n",
    "AND 게이트는 다음과 같이 동작합니다.  \n",
    "(1) 입력 (x1과 x2)에 가중치 (0.5, 0.5)가 각각 곱해집니다.  \n",
    "(2) 가중치가 곱해진 값을 하나로 더하여 theta와 값을 비교합니다.  \n",
    "(3) theta보다 값이 작거나 같으면 0을, 그렇지 않으면 1을 최종값으로 출력합니다."
   ]
  },
  {
   "cell_type": "code",
   "execution_count": 23,
   "metadata": {},
   "outputs": [],
   "source": [
    "def AND(x1, x2):\n",
    "    x = np.array([x1,x2])\n",
    "    w = np.array([0.5,0.5])\n",
    "    theta = 0.7\n",
    "    if np.sum(w*x) <= theta:\n",
    "        return ?\n",
    "    else:\n",
    "        return ?"
   ]
  },
  {
   "cell_type": "markdown",
   "metadata": {},
   "source": [
    "**AND 게이트의 동작 확인**"
   ]
  },
  {
   "cell_type": "code",
   "execution_count": 13,
   "metadata": {},
   "outputs": [
    {
     "name": "stdout",
     "output_type": "stream",
     "text": [
      "0, 0 ==> 0\n",
      "1, 0 ==> 0\n",
      "0, 1 ==> 0\n",
      "1, 1 ==> 1\n"
     ]
    }
   ],
   "source": [
    "# 게이트의 모든 입력의 경우를 입력합니다. 그리고 출력된 값을 확인합니다.\n",
    "inputData = np.array([[0,0],[1,0],[0,1],[1,1]])\n",
    "\n",
    "for x in inputData: \n",
    " print(x[0],\", \",x[1],\" ==> \",?(x[0],x[1]), sep = '')\n"
   ]
  },
  {
   "cell_type": "markdown",
   "metadata": {},
   "source": [
    "**OR 게이트 정의**\n",
    "OR 게이트는 다음과 같이 동작합니다.  \n",
    "(1) 입력 (x1과 x2)에 가중치 (0.5, 0.5)가 각각 곱해집니다.  \n",
    "(2) 가중치가 곱해진 값을 하나로 더하여 theta와 값을 비교합니다.  \n",
    "(3) theta보다 값이 작거나 같으면 0을, 그렇지 않으면 1을 최종값으로 출력합니다."
   ]
  },
  {
   "cell_type": "code",
   "execution_count": 24,
   "metadata": {},
   "outputs": [],
   "source": [
    "def OR(x1, x2):\n",
    "    x = np.array([x1,x2])\n",
    "    w = np.array([?,?])\n",
    "    theta = 0.2\n",
    "    if np.sum(w*x) <= theta:\n",
    "        return ?\n",
    "    else:\n",
    "        return ?"
   ]
  },
  {
   "cell_type": "markdown",
   "metadata": {},
   "source": [
    "**OR 게이트의 동작 확인**"
   ]
  },
  {
   "cell_type": "code",
   "execution_count": 15,
   "metadata": {},
   "outputs": [
    {
     "name": "stdout",
     "output_type": "stream",
     "text": [
      "0, 0 ==> 0\n",
      "1, 0 ==> 1\n",
      "0, 1 ==> 1\n",
      "1, 1 ==> 1\n"
     ]
    }
   ],
   "source": [
    "# 게이트의 모든 입력의 경우를 입력합니다. 그리고 출력된 값을 확인합니다.\n",
    "inputData = np.array([[0,0],[1,0],[0,1],[1,1]])\n",
    "\n",
    "for x in inputData: \n",
    " print(x[0],\", \",x[1],\" ==> \",OR(x[0],x[1]), sep = '')\n"
   ]
  },
  {
   "cell_type": "markdown",
   "metadata": {},
   "source": [
    "**NAND 게이트 정의**\n",
    "OR 게이트는 다음과 같이 동작합니다.  \n",
    "(1) 입력 (x1과 x2)에 가중치 (-0.5, -0.5)가 각각 곱해집니다.  \n",
    "(2) 가중치가 곱해진 값을 하나로 더하여 theta와 값을 비교합니다.  \n",
    "(3) theta보다 값이 작거나 같으면 0을, 그렇지 않으면 1을 최종값으로 출력합니다."
   ]
  },
  {
   "cell_type": "code",
   "execution_count": 25,
   "metadata": {},
   "outputs": [],
   "source": [
    "def NAND(x1, x2):\n",
    "    x = np.array([x1,x2])\n",
    "    w = np.array([-0.5,-0.5])\n",
    "    theta = -0.7\n",
    "    if np.sum(w*x) <= ?:\n",
    "        return 0\n",
    "    else:\n",
    "        return 1"
   ]
  },
  {
   "cell_type": "markdown",
   "metadata": {},
   "source": [
    "**NAND 게이트의 동작 확인**"
   ]
  },
  {
   "cell_type": "code",
   "execution_count": 19,
   "metadata": {},
   "outputs": [
    {
     "name": "stdout",
     "output_type": "stream",
     "text": [
      "0, 0 ==> 1\n",
      "1, 0 ==> 1\n",
      "0, 1 ==> 1\n",
      "1, 1 ==> 0\n"
     ]
    }
   ],
   "source": [
    "# 게이트의 모든 입력의 경우를 입력합니다. 그리고 출력된 값을 확인합니다.\n",
    "inputData = np.array([[0,0],[1,0],[0,1],[1,1]])\n",
    "\n",
    "for x in inputData: \n",
    " print(x[0],\", \",x[1],\" ==> \",?(x[0],x[1]), sep = '')\n"
   ]
  },
  {
   "cell_type": "markdown",
   "metadata": {},
   "source": [
    "**XOR 게이트 정의**\n",
    "XOR 게이트는 입력 두개가 서로 다른 경우에만 1을 출력합니다."
   ]
  },
  {
   "cell_type": "code",
   "execution_count": 21,
   "metadata": {},
   "outputs": [],
   "source": [
    "def XOR(x1, x2):\n",
    "    return ?(?(x1, x2), ?(x1,x2))"
   ]
  },
  {
   "cell_type": "markdown",
   "metadata": {},
   "source": [
    "**XOR 게이트의 동작 확인**"
   ]
  },
  {
   "cell_type": "code",
   "execution_count": 26,
   "metadata": {},
   "outputs": [
    {
     "name": "stdout",
     "output_type": "stream",
     "text": [
      "0, 0 ==> 0\n",
      "1, 0 ==> 1\n",
      "0, 1 ==> 1\n",
      "1, 1 ==> 0\n"
     ]
    }
   ],
   "source": [
    "# 게이트의 모든 입력의 경우를 입력합니다. 그리고 출력된 값을 확인합니다.\n",
    "inputData = np.array([[0,0],[1,0],[0,1],[1,1]])\n",
    "\n",
    "for x in inputData: \n",
    " print(x[0],\", \",x[1],\" ==> \",?(x[0],x[1]), sep = '')"
   ]
  },
  {
   "cell_type": "code",
   "execution_count": null,
   "metadata": {},
   "outputs": [],
   "source": []
  }
 ],
 "metadata": {
  "kernelspec": {
   "display_name": "Python 3",
   "language": "python",
   "name": "python3"
  },
  "language_info": {
   "codemirror_mode": {
    "name": "ipython",
    "version": 3
   },
   "file_extension": ".py",
   "mimetype": "text/x-python",
   "name": "python",
   "nbconvert_exporter": "python",
   "pygments_lexer": "ipython3",
   "version": "3.7.3"
  }
 },
 "nbformat": 4,
 "nbformat_minor": 2
}

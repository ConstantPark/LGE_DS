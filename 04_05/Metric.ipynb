{
 "cells": [
  {
   "cell_type": "code",
   "execution_count": 2,
   "metadata": {},
   "outputs": [],
   "source": [
    "# 정확도를 계산하는데 필요한 패키지를 로드합니다.\n",
    "\n",
    "import numpy as np\n",
    "import sklearn.metrics as metrics"
   ]
  },
  {
   "cell_type": "markdown",
   "metadata": {},
   "source": [
    "**정확도**는 정답을 정답으로, 오답을 오답으로 정확하게 분류한 것을 의미합니다. ((TP+TN)/(TP+TN+FP+FN))\n",
    "**정밀도**는 모델을 1이라고 분류한 그룹 A가 있을때, 믿을 만한 정도로 A를 만들어 냈는지 평가합니다.(TP/(TP+FP))\n",
    "**재현도**는 전체 예측중에서 TP가 얼마나 많은 것인가에 대한 정보 입니다. (TP/(TP+FN))"
   ]
  },
  {
   "cell_type": "code",
   "execution_count": 3,
   "metadata": {},
   "outputs": [
    {
     "name": "stdout",
     "output_type": "stream",
     "text": [
      "accuracy 0.6666666666666666\n",
      "precision 1.0\n",
      "recall 0.5\n",
      "f1 0.6666666666666666\n"
     ]
    }
   ],
   "source": [
    "# y는 정답, p는 임의의 머신러닝 모델이 있을 때, 그 모델에서 얻은 결과입니다.\n",
    "\n",
    "y = np.array([1,1,1,1,0,0]) # 0은 정상(실력자), 1은 음치\n",
    "p = np.array([1,1,0,0,0,0]) # 나의 예측\n",
    "\n",
    "accuracy = np.mean(np.equal(y,p)) # 전체 경우에서 y랑 p의 값이 같은 경우에 한해서 평균을 계산합니다.\n",
    "right = np.sum(y * p == 1) # y랑 p 둘다 음치인 경우에만 계산을 합니다. (TP)\n",
    "precision = right / np.sum(p) # 나의 예측 중에서 정답인 경우를 계산합니다.\n",
    "recall = right / np.sum(y) # 정답이라고 한 경우에서 정답인 경우를 계산합니다.\n",
    "f1 = 2 * precision*recall/(precision+recall) # 정밀도와 재현율의 평균\n",
    "\n",
    "# 정확도, 정밀도, 재현율, f1-score를 출력합니다.\n",
    "print('accuracy',accuracy)\n",
    "print('precision', precision)\n",
    "print('recall', recall)\n",
    "print('f1', f1)"
   ]
  },
  {
   "cell_type": "code",
   "execution_count": 4,
   "metadata": {},
   "outputs": [
    {
     "name": "stdout",
     "output_type": "stream",
     "text": [
      "accuracy 0.6666666666666666\n",
      "precision 1.0\n",
      "recall 0.5\n",
      "f1 0.6666666666666666\n"
     ]
    }
   ],
   "source": [
    "# sklearn 을 이용하면 전부 계산합니다.\n",
    "\n",
    "print('accuracy', metrics.accuracy_score(y,p) )\n",
    "print('precision', metrics.precision_score(y,p) )\n",
    "print('recall', metrics.recall_score(y,p) )\n",
    "print('f1', metrics.f1_score(y,p) )"
   ]
  },
  {
   "cell_type": "markdown",
   "metadata": {},
   "source": [
    "macro는 전체 평균 (단순 평균), weighted는 각 클랙스에 속하는 표본의 갯수로 평균을 의미합니다.  \n",
    "support는 0과 1에 해당되는 데이터의 갯수 입니다."
   ]
  },
  {
   "cell_type": "code",
   "execution_count": 7,
   "metadata": {},
   "outputs": [
    {
     "name": "stdout",
     "output_type": "stream",
     "text": [
      "              precision    recall  f1-score   support\n",
      "\n",
      "           0       0.50      1.00      0.67         2\n",
      "           1       1.00      0.50      0.67         4\n",
      "\n",
      "    accuracy                           0.67         6\n",
      "   macro avg       0.75      0.75      0.67         6\n",
      "weighted avg       0.83      0.67      0.67         6\n",
      "\n"
     ]
    }
   ],
   "source": [
    "# 예측의 결과를 출력합니다.\n",
    "\n",
    "print(metrics.classification_report(y,p))"
   ]
  },
  {
   "cell_type": "markdown",
   "metadata": {},
   "source": [
    "[[2 0]   # TP FP\n",
    " [2 2]]  # FP TN\n",
    " \n",
    "                 Prediction (1) Prediction (0)\n",
    " Actual Class (1)      2              0\n",
    " Actual Class (0)      2              2"
   ]
  },
  {
   "cell_type": "code",
   "execution_count": 8,
   "metadata": {},
   "outputs": [
    {
     "name": "stdout",
     "output_type": "stream",
     "text": [
      "[[2 0]\n",
      " [2 2]]\n"
     ]
    }
   ],
   "source": [
    "# 혼동 행렬의 결과를 출력합니다.\n",
    "\n",
    "print(metrics.confusion_matrix(y,p))"
   ]
  }
 ],
 "metadata": {
  "kernelspec": {
   "display_name": "Python 3",
   "language": "python",
   "name": "python3"
  },
  "language_info": {
   "codemirror_mode": {
    "name": "ipython",
    "version": 3
   },
   "file_extension": ".py",
   "mimetype": "text/x-python",
   "name": "python",
   "nbconvert_exporter": "python",
   "pygments_lexer": "ipython3",
   "version": "3.7.3"
  }
 },
 "nbformat": 4,
 "nbformat_minor": 2
}

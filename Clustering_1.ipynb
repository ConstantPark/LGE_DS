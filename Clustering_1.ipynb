{
 "cells": [
  {
   "cell_type": "markdown",
   "metadata": {},
   "source": [
    "**단계 1:** numpy array를 선언하고 패키지를 import 하는 과정"
   ]
  },
  {
   "cell_type": "code",
   "execution_count": 1,
   "metadata": {},
   "outputs": [],
   "source": [
    "# 행과 열로 구성된 데이터를 사용하기 위해 필요한 패키지를 import합니다.\n",
    "# 본 예제에서는 pandas, matplotlib를 사용합니다.\n",
    "import numpy as np\n",
    "\n",
    "# numpy array 타입의 객체를 선언합니다.\n",
    "# 이때, 해당 객체는 Y축/X축 값을 기록합니다.\n",
    "X = np.array([[5,3],\n",
    "    [10,15],\n",
    "    [15,12],\n",
    "    [24,10],\n",
    "    [30,30],\n",
    "    [85,70],\n",
    "    [71,80],\n",
    "    [60,78],\n",
    "    [70,55],\n",
    "    [80,91],])"
   ]
  },
  {
   "cell_type": "markdown",
   "metadata": {},
   "source": [
    "**단계 2:** 산점도를 그려서 데이터가 어떠한 형태로 분포가 되어 있는지 확인합니다."
   ]
  },
  {
   "cell_type": "code",
   "execution_count": 7,
   "metadata": {},
   "outputs": [
    {
     "data": {
      "image/png": "[encoded data removed]",
      "text/plain": [
       "<Figure size 720x504 with 1 Axes>"
      ]
     },
     "metadata": {
      "needs_background": "light"
     },
     "output_type": "display_data"
    }
   ],
   "source": [
    "import matplotlib.pyplot as plt\n",
    "\n",
    "# 산점도를 출력하기 위해 몇가지 과정을 진행합니다.\n",
    "# 먼저 출력할 데이터의 갯수를 정의합니다.\n",
    "# 1번부터 시작하여 10번까지의 숫자 (총 10개)를 출력합니다.\n",
    "# 그래프의 크기를 지정합니다.\n",
    "# 현재 배치되어 있는 subplot의 위치를 조절합니다. \n",
    "# 산점도 그릴때 X축과 Y축에 어떤 데이터를 출력할 것인지 명시합니다.\n",
    "labels = range(1, 11)\n",
    "plt.figure(figsize=(10, 7))\n",
    "plt.subplots_adjust(bottom=0.1)\n",
    "plt.scatter(X[:,0],X[:,1], label='True Position')\n",
    "\n",
    "# zip(*iterable)은 동일한 개수로 이루어진 자료형을 묶어 주는 역할을 하는 함수입니다.\n",
    "# X축, Y축, 그리고 레이블을 묶어서 처리하도록 합니다.\n",
    "# 산점도 위에 레이블을 출력합니다.\n",
    "# xy는 점의 위치, xytext는 문자열이 출력될 위치, ha/va는 수직/수평 방향에서의 정렬을 의미합니다.\n",
    "\n",
    "for label, x, y in zip(labels, X[:, 0], X[:, 1]):\n",
    "    plt.annotate(\n",
    "        label,\n",
    "        xy=(x, y), xytext=(-3, 3),\n",
    "        textcoords='offset points', ha='right', va='bottom')\n",
    "    \n",
    "# 그래프를 그립니다.\n",
    "plt.show()"
   ]
  },
  {
   "cell_type": "markdown",
   "metadata": {},
   "source": [
    "**단계 3:** scipy를 사용하여 군집화를 하고 군집화의 결과를 출력합니다."
   ]
  },
  {
   "cell_type": "code",
   "execution_count": 10,
   "metadata": {},
   "outputs": [
    {
     "data": {
      "image/png": "[encoded data removed]",
      "text/plain": [
       "<Figure size 720x504 with 1 Axes>"
      ]
     },
     "metadata": {
      "needs_background": "light"
     },
     "output_type": "display_data"
    }
   ],
   "source": [
    "# 계층적 클러스터링을 하기 위해서 scipy 패키지의 linkage, dendrogram을 사용합니다.\n",
    "# linkage는 계층적 클러스터를 하기 위해서, dendrogram은 클러스터링 결과를 트리 형태로 시각화하기 위해서 사용합니다.\n",
    "from scipy.cluster.hierarchy import dendrogram, linkage\n",
    "from matplotlib import pyplot as plt\n",
    "\n",
    "# 응집형의 방범중 하나인 단일연결 (Single Linkage Method)를 사용합니다.\n",
    "# 이때 함수는 linkage를 사용합니다\n",
    "linked =        (X, 'single')\n",
    "\n",
    "# X축에 출력할 범위를 설정합니다.\n",
    "# 이전의 예제와 동일하게 레이블은 1~10의 값을 갖습니다.\n",
    "labelList = range(1, 11)\n",
    "\n",
    "# 그래프의 크기를 지정합니다.\n",
    "# dendrogram을 사용하여 트리 형태로 결과를 시각화 합니다.\n",
    "# orientation: 그래프의 뿌리 방향을 결정합니다 (여기서는 최상위)\n",
    "# distance_sort: 거리의 정렬 방법을 결정합니다 (오름차순/내림차순)\n",
    "# show_leaf_counts: 각 클래스의 객체 숫자를 표시합니다.\n",
    "plt.figure(figsize=(10, 7))\n",
    "dendrogram(linked,\n",
    "            orientation='top',\n",
    "            labels=labelList,\n",
    "            distance_sort='descending',\n",
    "            show_leaf_counts=False)\n",
    "plt.show()"
   ]
  },
  {
   "cell_type": "code",
   "execution_count": null,
   "metadata": {},
   "outputs": [],
   "source": []
  }
 ],
 "metadata": {
  "kernelspec": {
   "display_name": "Python 3",
   "language": "python",
   "name": "python3"
  },
  "language_info": {
   "codemirror_mode": {
    "name": "ipython",
    "version": 3
   },
   "file_extension": ".py",
   "mimetype": "text/x-python",
   "name": "python",
   "nbconvert_exporter": "python",
   "pygments_lexer": "ipython3",
   "version": "3.8.3"
  }
 },
 "nbformat": 4,
 "nbformat_minor": 2
}

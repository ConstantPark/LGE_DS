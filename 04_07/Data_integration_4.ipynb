{
 "cells": [
  {
   "cell_type": "code",
   "execution_count": 3,
   "metadata": {},
   "outputs": [
    {
     "name": "stdout",
     "output_type": "stream",
     "text": [
      "     이름  나이\n",
      "0   라이언  22\n",
      "1   포로리  33\n",
      "2  도라에몽  19\n",
      "3   아라찌  24\n",
      "     이름  나이\n",
      "0   라이언  22\n",
      "1   포로리  33\n",
      "2  도라에몽  19\n",
      "3   아라찌  24\n",
      "4   비둘기  35\n",
      "5   어피치  49\n",
      "6   김강철  11\n",
      "      이름  나이\n",
      "0    라이언  22\n",
      "1    포로리  33\n",
      "2   도라에몽  19\n",
      "3    아라찌  24\n",
      "4    비둘기  35\n",
      "5    어피치  49\n",
      "6    김강철  11\n",
      "7   김구구﻿  43\n",
      "8    이구구  32\n",
      "9    박구구  29\n",
      "10   구구구  11\n",
      "      이름    나이      Name   Age Gender\n",
      "0    라이언  22.0       NaN   NaN    NaN\n",
      "1    포로리  33.0       NaN   NaN    NaN\n",
      "2   도라에몽  19.0       NaN   NaN    NaN\n",
      "3    아라찌  24.0       NaN   NaN    NaN\n",
      "4    비둘기  35.0       NaN   NaN    NaN\n",
      "5    어피치  49.0       NaN   NaN    NaN\n",
      "6    김강철  11.0       NaN   NaN    NaN\n",
      "7   김구구﻿  43.0       NaN   NaN    NaN\n",
      "8    이구구  32.0       NaN   NaN    NaN\n",
      "9    박구구  29.0       NaN   NaN    NaN\n",
      "10   구구구  11.0       NaN   NaN    NaN\n",
      "11   NaN   NaN      Nabi  34.0      M\n",
      "12   NaN   NaN  Bobettau  29.0      F\n",
      "13   NaN   NaN       周星馳  50.0      M\n",
      "14   NaN   NaN      孫 正義  62.0      M\n"
     ]
    }
   ],
   "source": [
    "import pandas as pd\n",
    "import glob\n",
    "import xlrd\n",
    "import openpyxl\n",
    " \n",
    "#우선 모든 자료들을 raw data folder에 저장\n",
    "all_data = pd.DataFrame()\n",
    "all_data1 = pd.DataFrame()\n",
    "for f in glob.glob(\"rawdata/*.xlsx\"): #rawdata 디렉토리에 있는 xlsx파일들 불러옴\n",
    "    df=pd.read_excel(f, sheet_name=None)\n",
    "    all_data1 = pd.concat(df, ignore_index=True)\n",
    "    all_data=all_data.       (all_data1,ignore_index=True)\n",
    "    print(all_data)\n",
    "all_data.to_excel('합본.xlsx',encoding='utf-8-sig') #저장\n",
    "#엑셀로 저장하는데 시간이 오래 걸릴 때에는, csv로 저장할 수도 있습니다.\n",
    "#all_data.to_csv('합본.csv',encoding='utf-8-sig') \n"
   ]
  },
  {
   "cell_type": "code",
   "execution_count": 4,
   "metadata": {},
   "outputs": [],
   "source": [
    "import pandas as pd\n",
    "import glob\n",
    "import xlrd\n",
    "import openpyxl\n",
    " \n",
    "#우선 모든 자료들을 raw data folder에 저장\n",
    "all_data = pd.DataFrame()\n",
    "all_data1 = pd.DataFrame()\n",
    "for f in glob.glob(\"rawdata/*.xlsx\"): #rawdata 디렉토리에 있는 xlsx파일들 불러옴\n",
    "    df=pd.read_excel(f, sheet_name=None)\n",
    "    all_data1 = pd.concat(df, ignore_index=True)\n",
    "    ######추가#####\n",
    "    all_data1.rename(columns={\"Gender\":\"성별\",\"Age\":\"나이\",\"Name\":\"이름\"},inplace=True) #추가된 부분\n",
    "    ##############\n",
    "    all_data=all_data.append(all_data1,ignore_index=True)\n",
    " \n",
    "for f in glob.glob(\"rawdata/*.csv\"): #csv 불러옴\n",
    "    df=pd.read_csv(f,index_col=None, header=0, encoding='UTF8')\n",
    "    all_data1 = pd.concat([df], ignore_index=True)\n",
    "    all_data1.rename(columns={\"Gender\":\"성별\",\"Age\":\"나이\",\"Name\":\"이름\"},inplace=True)\n",
    "    all_data=all_data.append(all_data1,ignore_index=True)\n",
    " \n",
    "all_data.to_excel('합본.xlsx',encoding='utf-8-sig') #저장\n",
    "# all_data.to_csv('합본.csv',encoding='utf-8-sig') #csv로 저장\n"
   ]
  },
  {
   "cell_type": "code",
   "execution_count": null,
   "metadata": {},
   "outputs": [],
   "source": []
  }
 ],
 "metadata": {
  "kernelspec": {
   "display_name": "Python 3",
   "language": "python",
   "name": "python3"
  },
  "language_info": {
   "codemirror_mode": {
    "name": "ipython",
    "version": 3
   },
   "file_extension": ".py",
   "mimetype": "text/x-python",
   "name": "python",
   "nbconvert_exporter": "python",
   "pygments_lexer": "ipython3",
   "version": "3.8.3"
  }
 },
 "nbformat": 4,
 "nbformat_minor": 2
}
